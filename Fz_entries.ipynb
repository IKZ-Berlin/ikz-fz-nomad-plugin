{
 "cells": [
  {
   "cell_type": "code",
   "execution_count": null,
   "metadata": {},
   "outputs": [],
   "source": [
    "from typing import TYPE_CHECKING\n",
    "\n",
    "if TYPE_CHECKING:\n",
    "    from nomad.datamodel.datamodel import (\n",
    "        EntryArchive,\n",
    "    )\n",
    "\n",
    "from nomad.datamodel import EntryMetadata\n",
    "from nomad.datamodel.datamodel import (\n",
    "    EntryArchive,\n",
    ")"
   ]
  },
  {
   "cell_type": "code",
   "execution_count": null,
   "metadata": {},
   "outputs": [],
   "source": [
    "import pandas as pd\n",
    "\n",
    "from nomad_ikz_fz.schema_packages.mypackage import (\n",
    "    Feed_rod,\n",
    "    FzCrystal,\n",
    "    Resistivity,\n",
    ")"
   ]
  },
  {
   "cell_type": "code",
   "execution_count": null,
   "metadata": {},
   "outputs": [],
   "source": [
    "df_fr_100 = pd.read_excel(\n",
    "    'excels/Inventarliste Rohstäbe_20240712.xlsx', sheet_name='100mm'\n",
    ")\n",
    "df_fr_100.fillna('', inplace=True)"
   ]
  },
  {
   "cell_type": "code",
   "execution_count": null,
   "metadata": {},
   "outputs": [],
   "source": [
    "df_fr_100  # .columns"
   ]
  },
  {
   "cell_type": "code",
   "execution_count": null,
   "metadata": {},
   "outputs": [],
   "source": [
    "import json\n",
    "\n",
    "\n",
    "def process_dataframe(df):\n",
    "    counter = 1\n",
    "\n",
    "    for index, row in df.iterrows():\n",
    "        fr = Feed_rod()  # Replace with the correct initialization of your object\n",
    "        counter += 1\n",
    "        if row['Seriennummer 100mm'] == 'ohne Nr.':\n",
    "            fr.name = str(row['Seriennummer 100mm']) + str(counter)\n",
    "        else:\n",
    "            fr.name = str(row['Seriennummer 100mm'])\n",
    "\n",
    "        if row['Länge cm '] != '':\n",
    "            fr.length = float(row['Länge cm '])\n",
    "\n",
    "        if row['Angespitzt'] == '+':\n",
    "            fr.sharpened = True\n",
    "        else:\n",
    "            fr.sharpened = False\n",
    "        if row['Geätzt'] == '+':\n",
    "            fr.etched = True\n",
    "        else:\n",
    "            fr.etched = False\n",
    "\n",
    "        if row['Bemerkung'] != '':\n",
    "            fr.description = row['Bemerkung']\n",
    "\n",
    "        if row['Ort'] != '':\n",
    "            fr.storage_location = row['Ort']\n",
    "        fr.diameter = '100 mm'\n",
    "\n",
    "        archive = EntryArchive(metadata=EntryMetadata())\n",
    "        fr.normalize(archive, None)\n",
    "\n",
    "        with open(\n",
    "            '/home/brueckner/ikz-fz-nomad-plugin/feeds/' + fr.name + '.archive.json',\n",
    "            'w',\n",
    "        ) as f:\n",
    "            json.dump({'data': fr.m_to_dict(with_root_def=True)}, f, indent=2)\n",
    "\n",
    "    print('Processing complete and files saved.')\n",
    "\n",
    "\n",
    "# Example usage:\n",
    "process_dataframe(df_fr_100)"
   ]
  },
  {
   "cell_type": "code",
   "execution_count": null,
   "metadata": {},
   "outputs": [],
   "source": [
    "df_fr_126 = pd.read_excel(\n",
    "    'excels/Inventarliste Rohstäbe_20240712.xlsx', sheet_name='126-130mm'\n",
    ")\n",
    "df_fr_126.fillna('', inplace=True)\n",
    "df_fr_126"
   ]
  },
  {
   "cell_type": "code",
   "execution_count": null,
   "metadata": {},
   "outputs": [],
   "source": [
    "df_fr_126.Resistivity.unique()"
   ]
  },
  {
   "cell_type": "code",
   "execution_count": null,
   "metadata": {},
   "outputs": [],
   "source": [
    "df_fr_126.columns"
   ]
  },
  {
   "cell_type": "code",
   "execution_count": null,
   "metadata": {},
   "outputs": [],
   "source": [
    "\n",
    "\n",
    "def process_dataframe_126(df):\n",
    "    counter = 1\n",
    "\n",
    "    for index, row in df.iterrows():\n",
    "        fr = Feed_rod()  # Replace with the correct initialization of your object\n",
    "        counter += 1\n",
    "\n",
    "        if row['Seriennummer 126-130mm'] == 'ohne Nr.':\n",
    "            fr.name = str(row['Seriennummer 126-130mm']) + str(counter)\n",
    "        else:\n",
    "            fr.name = str(row['Seriennummer 126-130mm'])\n",
    "\n",
    "        if row['Länge cm '] != '':\n",
    "            fr.length = float(row['Länge cm '])\n",
    "\n",
    "        if row['Angespitzt'] == '+':\n",
    "            fr.sharpened = True\n",
    "        else:\n",
    "            fr.sharpened = False\n",
    "\n",
    "        if row['Geätzt'] == '+':\n",
    "            fr.etched = True\n",
    "        else:\n",
    "            fr.etched = False\n",
    "\n",
    "        if row['Bemerkung'] != '':\n",
    "            fr.description = row['Bemerkung']\n",
    "\n",
    "        if row['Ort'] != '':\n",
    "            fr.storage_location = row['Ort']\n",
    "        if row['Resistivity'] == 'High Res ':\n",
    "            fr.feed_rod_resistivity = 'high resistivity'\n",
    "        else:\n",
    "            fr.feed_rod_resistivity = 'standard resistivity'\n",
    "\n",
    "        # if row[\"Resistivity\"] != '': # and row[\"Resistivity\"] == 'Std Res':\n",
    "        #     fr.feed_rod_resistivity=\"standard resistivity\"\n",
    "        # elif row[\"Resistivity\"] != '' and row[\"Resistivity\"] == 'High Res' or \n",
    "        # row[\"Resistivity\"] == 'High Res ':\n",
    "        #     fr.feed_rod_resistivity=\"high resistivity\"\n",
    "        fr.diameter = '126 - 130 mm'\n",
    "        archive = EntryArchive(metadata=EntryMetadata())\n",
    "        fr.normalize(archive, None)\n",
    "\n",
    "        with open(\n",
    "            '/home/brueckner/ikz-fz-nomad-plugin/feeds/' + fr.name + '.archive.json',\n",
    "            'w',\n",
    "        ) as f:\n",
    "            json.dump({'data': fr.m_to_dict(with_root_def=True)}, f, indent=2)\n",
    "\n",
    "    print('Processing complete and files saved.')\n",
    "\n",
    "\n",
    "# Example usage:\n",
    "process_dataframe_126(df_fr_126)"
   ]
  },
  {
   "cell_type": "code",
   "execution_count": null,
   "metadata": {},
   "outputs": [],
   "source": [
    "df_crys = pd.read_excel('excels/Kristalle_Inventar_20240712.xlsx')\n",
    "df_crys.fillna('', inplace=True)\n",
    "# df_crys\n",
    "# Initialize empty lists to store resistivity, res_min, and res_max\n",
    "resistivity = []\n",
    "res_min = []\n",
    "res_max = []\n",
    "\n",
    "for index, row in df_crys.iterrows():\n",
    "    value = row['Spez. Widerstand ρ [kΩcm]']\n",
    "    try:\n",
    "        # Try to convert the value to float\n",
    "        float_value = float(value)\n",
    "        resistivity.append(float_value)\n",
    "        res_min.append(None)  # No min value for single float entries\n",
    "        res_max.append(None)  # No max value for single float entries\n",
    "    except ValueError:\n",
    "        # If conversion fails, it's a string or not a float-convertible value\n",
    "        if '-' in value:\n",
    "            # print(value)\n",
    "            parts = value.split('-')\n",
    "            try:\n",
    "                # Convert both parts to float and determine min and max\n",
    "                part1 = float(parts[0].strip().replace(',', '.'))\n",
    "                part2 = float(parts[1].strip().replace(',', '.'))\n",
    "                min_value = min(part1, part2)\n",
    "                # print(min_value)\n",
    "                max_value = max(part1, part2)\n",
    "                # print(max_value)\n",
    "                res_min.append(min_value)\n",
    "                res_max.append(max_value)\n",
    "                resistivity.append(None)  # No single resistivity value for ranges\n",
    "            except ValueError:\n",
    "                # If conversion fails, the parts are not valid floats\n",
    "                resistivity.append(None)\n",
    "                res_min.append(None)\n",
    "                res_max.append(None)\n",
    "        else:\n",
    "            resistivity.append(None)\n",
    "            res_min.append(None)\n",
    "            res_max.append(None)\n",
    "\n",
    "# At this point, resistivity, res_min, and res_max lists contain the processed values\n",
    "# You can add them to the DataFrame or use them as needed\n",
    "df_crys['resistivity'] = resistivity\n",
    "df_crys['res_min'] = res_min\n",
    "df_crys['res_max'] = res_max\n",
    "df_crys.fillna('', inplace=True)\n",
    "df_crys"
   ]
  },
  {
   "cell_type": "code",
   "execution_count": null,
   "metadata": {},
   "outputs": [],
   "source": [
    "df_crys.columns"
   ]
  },
  {
   "cell_type": "code",
   "execution_count": null,
   "metadata": {},
   "outputs": [],
   "source": [
    "df_crys  # [\"L-Typ\"].unique()"
   ]
  },
  {
   "cell_type": "code",
   "execution_count": null,
   "metadata": {},
   "outputs": [],
   "source": [
    "\n",
    "\n",
    "def process_dataframe_crys(df):  # noqa: PLR0912\n",
    "    counter = 1\n",
    "\n",
    "    for index, row in df.iterrows():\n",
    "        fr = FzCrystal()  # Replace with the correct initialization of your object\n",
    "        counter += 1\n",
    "\n",
    "        if str(row['Versuchsnummer']) != '':\n",
    "            fr.name = str(row['Versuchsnummer'])\n",
    "\n",
    "        if str(row['Anlage']) != '':\n",
    "            fr.fz_furnace = str(row['Anlage'])\n",
    "            print(fr.fz_furnace)\n",
    "\n",
    "        if row['Orientierung'] != '':\n",
    "            fr.orientation = str(row['Orientierung'])\n",
    "\n",
    "        if (\n",
    "            row['L-Typ'] != ''\n",
    "            and row['L-Typ'] == 'n'\n",
    "            or row['L-Typ'] == 'p'\n",
    "            or row['L-Typ'] == 'p/n'\n",
    "        ):\n",
    "            fr.doping_type = str(row['L-Typ'])\n",
    "            # undoped add here\n",
    "        else:\n",
    "            fr.doping_type = 'undoped'\n",
    "\n",
    "        if not isinstance(row['Datum'], pd._libs.tslibs.nattype.NaTType):\n",
    "            fr.process_date = str(row['Datum'])\n",
    "\n",
    "        fr.resistivity_measurement = Resistivity()\n",
    "\n",
    "        if row['resistivity'] != '':\n",
    "            fr.resistivity_measurement.resistivity = float(row['resistivity'])\n",
    "        if row['res_min'] != '':\n",
    "            fr.resistivity_measurement.resistivity_minimum = float(row['res_min'])\n",
    "        if row['res_max'] != '':\n",
    "            fr.resistivity_measurement.resistivity_maximum = float(row['res_max'])\n",
    "        # if row[\"Spez. Widerstand ρ [kΩcm]\"] != '':\n",
    "        #     if '-' in row[\"Spez. Widerstand ρ [kΩcm]\"]:\n",
    "        #         fr.resistivity=row[\"Spez. Widerstand ρ [kΩcm]\"].split('-')[0]\n",
    "        # .replace(',', '.')\n",
    "        #     else: fr.resistivity=row[\"Spez. Widerstand ρ [kΩcm]\"].replace(',', '.')\n",
    "        # #     fr.orientresistivityation = float(row[\"Spez. Widerstand ρ [kΩcm]\"])\n",
    "\n",
    "        if row['Length [mm] '] != '':\n",
    "            fr.length = float(row['Length [mm] '])\n",
    "\n",
    "        if row['Ist- Ø [mm] '] != '':\n",
    "            fr.diameter = float(row['Ist- Ø [mm] '])\n",
    "\n",
    "        if row['Bemerkung'] != '':\n",
    "            fr.description = str(row['Bemerkung'])\n",
    "\n",
    "        if row['Location'] != '':\n",
    "            fr.location = row['Location']\n",
    "\n",
    "        archive = EntryArchive(metadata=EntryMetadata())\n",
    "        fr.normalize(archive, None)\n",
    "\n",
    "        with open(\n",
    "            '/home/brueckner/ikz-fz-nomad-plugin/crys/' + fr.name + '.archive.json', 'w'\n",
    "        ) as f:\n",
    "            json.dump({'data': fr.m_to_dict(with_root_def=True)}, f, indent=2)\n",
    "\n",
    "    print('Processing complete and files saved.')\n",
    "\n",
    "\n",
    "# Example usage:\n",
    "process_dataframe_crys(df_crys)"
   ]
  },
  {
   "cell_type": "markdown",
   "metadata": {},
   "source": [
    "/home/brueckner/ikz-fz-nomad-plugin/feeds/44318002.archive.json"
   ]
  },
  {
   "cell_type": "code",
   "execution_count": null,
   "metadata": {},
   "outputs": [],
   "source": [
    "type(df_crys.Datum[0]) is pd._libs.tslibs.nattype.NaTType"
   ]
  },
  {
   "cell_type": "code",
   "execution_count": null,
   "metadata": {},
   "outputs": [],
   "source": [
    "fr = FzCrystal()"
   ]
  },
  {
   "cell_type": "code",
   "execution_count": null,
   "metadata": {},
   "outputs": [],
   "source": [
    "archive = EntryArchive(metadata=EntryMetadata())\n",
    "# fr.normalize(archive, None)"
   ]
  },
  {
   "cell_type": "code",
   "execution_count": null,
   "metadata": {},
   "outputs": [],
   "source": [
    "fr.resistivity_measurement = Resistivity()"
   ]
  },
  {
   "cell_type": "code",
   "execution_count": null,
   "metadata": {},
   "outputs": [],
   "source": [
    "fr.resistivity_measurement.resistivity = 1.0"
   ]
  },
  {
   "cell_type": "code",
   "execution_count": null,
   "metadata": {},
   "outputs": [],
   "source": []
  }
 ],
 "metadata": {
  "kernelspec": {
   "display_name": ".venv",
   "language": "python",
   "name": "python3"
  },
  "language_info": {
   "codemirror_mode": {
    "name": "ipython",
    "version": 3
   },
   "file_extension": ".py",
   "mimetype": "text/x-python",
   "name": "python",
   "nbconvert_exporter": "python",
   "pygments_lexer": "ipython3",
   "version": "3.12.7"
  }
 },
 "nbformat": 4,
 "nbformat_minor": 2
}
